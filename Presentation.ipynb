{
 "cells": [
  {
   "cell_type": "markdown",
   "metadata": {
    "slideshow": {
     "slide_type": "slide"
    }
   },
   "source": [
    "<center>  <img src=\"images/header.png\"> </center> \n",
    "\n",
    "## <center>  Семестровый проект </center>\n",
    "# <center>\"Предсказание оценки фильма на IMDb по тексту отзыва\" </center>"
   ]
  },
  {
   "cell_type": "code",
   "execution_count": 6,
   "metadata": {
    "slideshow": {
     "slide_type": "skip"
    }
   },
   "outputs": [],
   "source": [
    "import pandas as pd\n",
    "import seaborn as sns\n",
    "\n",
    "\n",
    "import warnings\n",
    "warnings.filterwarnings('ignore')"
   ]
  },
  {
   "cell_type": "code",
   "execution_count": 28,
   "metadata": {
    "slideshow": {
     "slide_type": "skip"
    }
   },
   "outputs": [
    {
     "name": "stdout",
     "output_type": "stream",
     "text": [
      "Populating the interactive namespace from numpy and matplotlib\n"
     ]
    }
   ],
   "source": [
    "import matplotlib.pyplot as plt\n",
    "\n",
    "%matplotlib inline\n",
    "plt.style.use('ggplot')\n",
    "plt.rcParams['figure.figsize'] = (12,5)\n",
    "\n",
    "# Plotting config\n",
    "%pylab inline"
   ]
  },
  {
   "cell_type": "markdown",
   "metadata": {
    "slideshow": {
     "slide_type": "slide"
    }
   },
   "source": [
    "# Задача\n",
    "Обучить модель, которая по тексту отзыва будет рекомендовать пользователю адекватную оценку фильму."
   ]
  },
  {
   "cell_type": "markdown",
   "metadata": {
    "slideshow": {
     "slide_type": "subslide"
    }
   },
   "source": [
    "## Зачем это нужно?\n",
    "<center> <img src=\"images/star_ratings.png\"> </center>"
   ]
  },
  {
   "cell_type": "markdown",
   "metadata": {
    "slideshow": {
     "slide_type": "fragment"
    }
   },
   "source": [
    "- Пользователь ставит оценку фильму, исходя из субъективного восприятия числового значения оценки.\n",
    "- В итоге получаем оценку, которую невозмонжо однозначно итерпретировать (что хотел сказать автор?)."
   ]
  },
  {
   "cell_type": "markdown",
   "metadata": {
    "slideshow": {
     "slide_type": "subslide"
    }
   },
   "source": [
    "### Поэтому\n",
    "Будем предлагать пользвателю адекватную оценку, исходя из текста его отзыва."
   ]
  },
  {
   "cell_type": "markdown",
   "metadata": {
    "slideshow": {
     "slide_type": "subslide"
    }
   },
   "source": [
    "## Получаем\n",
    "Задачу классификации текстов с учителем.\n"
   ]
  },
  {
   "cell_type": "markdown",
   "metadata": {
    "slideshow": {
     "slide_type": "fragment"
    }
   },
   "source": [
    "### Чем будем измерять качество?\n",
    "Поскольку оценка фильма - вещь довольно субъективная, будем стремиться уменьшить MAE. "
   ]
  },
  {
   "cell_type": "markdown",
   "metadata": {
    "slideshow": {
     "slide_type": "fragment"
    }
   },
   "source": [
    "### Минимальный порог качества\n",
    "- Если модель в среднем ошибается на 1 балл, значит она очень хорошо понимает тексты. \n",
    "- Добившись такого MAE, мы получим модель, которая понимает, что пользователь думает о фильме, и предлагает ему подходящую оценку.\n",
    "(Не забываем, что оценку ставят люди, которые сами не очень-то шарят, что значит какая циферка)"
   ]
  },
  {
   "cell_type": "markdown",
   "metadata": {
    "slideshow": {
     "slide_type": "subslide"
    }
   },
   "source": [
    "#### Представим, что данная задача решалась бы ручным трудом. \n",
    "<center> <img src = \"images/choice2.png\">  </center>\n",
    "Тогда предлагаемые оценки очень сильно будут зависеть от настроения человека, который принисает решение. Примерно это же сейчас и происходит - в результате получаем оценку, которая складывается не только из впечатлений о фильмне, но и из общего состояния оценивающего. \n"
   ]
  },
  {
   "cell_type": "markdown",
   "metadata": {
    "slideshow": {
     "slide_type": "notes"
    }
   },
   "source": [
    "Я ХЗ, ТУТ НАДО НАПИСАТЬ ТИПА ЧТО НА 1 БАЛЛ ОШИБАТЬСЯ НОРМУЛЬ, НАРОД САМ НЕ ОСОБО ШАРИТ, ЧЕМ 5 И 6 БАЛЛОВ ОТЛИЧАЮТСЯ, НАПРИМЕР"
   ]
  },
  {
   "cell_type": "markdown",
   "metadata": {
    "slideshow": {
     "slide_type": "slide"
    }
   },
   "source": [
    "# Сбор данных"
   ]
  },
  {
   "cell_type": "markdown",
   "metadata": {
    "slideshow": {
     "slide_type": "subslide"
    }
   },
   "source": [
    "Для обучения мы выкачали все отзывы на фильмы из Top-250 и почти все отзывы на фильмы 2016 года. Для парсинга сайта использовалась библиотека `BeautifulSoup`. Все строго по закону - данные в открытом доступе."
   ]
  },
  {
   "cell_type": "markdown",
   "metadata": {
    "slideshow": {
     "slide_type": "fragment"
    }
   },
   "source": [
    "Мы получили\n",
    "- **400 000 отзывов**,\n",
    "\n",
    "а это целых  \n",
    "- **500 мб текста**\n",
    "\n",
    "для \n",
    "- **1700 фильмов**."
   ]
  },
  {
   "cell_type": "markdown",
   "metadata": {
    "slideshow": {
     "slide_type": "slide"
    }
   },
   "source": [
    "## Предобработка данных"
   ]
  },
  {
   "cell_type": "markdown",
   "metadata": {
    "slideshow": {
     "slide_type": "subslide"
    }
   },
   "source": [
    "Текстовые данные требуют допольнительной предобработки, поэтому мы выполнили\n",
    "- предварительную нормализацию данных;\n",
    "- стемминг.\n",
    "\n",
    "После многочисленных экспериментов стоп-слова решили не удалять, поскольку они влияют на n-граммы.\n"
   ]
  },
  {
   "cell_type": "markdown",
   "metadata": {
    "slideshow": {
     "slide_type": "notes"
    }
   },
   "source": [
    "ВОТ ТУТ БОМБИЧЕСКИЙ ЕВГЕНИЙ ДОЛЖЕН СПЕТЬ ТИРАДУ СВОИМ СПОСОБНОСТЯМ В ПРЕДОБРАБОТКЕ"
   ]
  },
  {
   "cell_type": "markdown",
   "metadata": {
    "slideshow": {
     "slide_type": "slide"
    }
   },
   "source": [
    "## Данные"
   ]
  },
  {
   "cell_type": "code",
   "execution_count": null,
   "metadata": {
    "slideshow": {
     "slide_type": "skip"
    }
   },
   "outputs": [],
   "source": [
    "reviews = pd.read_csv('stemmed.csv')"
   ]
  },
  {
   "cell_type": "code",
   "execution_count": 51,
   "metadata": {
    "slideshow": {
     "slide_type": "subslide"
    }
   },
   "outputs": [
    {
     "data": {
      "image/png": "[encoded data removed]",
      "text/plain": [
       "<matplotlib.figure.Figure at 0x7f1ae4b96ed0>"
      ]
     },
     "metadata": {},
     "output_type": "display_data"
    }
   ],
   "source": [
    "sns.distplot(reviews.rating, bins=10, kde=False) \n",
    "plt.show()"
   ]
  },
  {
   "cell_type": "markdown",
   "metadata": {
    "slideshow": {
     "slide_type": "fragment"
    }
   },
   "source": [
    "Нормализуем данные"
   ]
  },
  {
   "cell_type": "code",
   "execution_count": 48,
   "metadata": {
    "slideshow": {
     "slide_type": "skip"
    }
   },
   "outputs": [
    {
     "name": "stdout",
     "output_type": "stream",
     "text": [
      "[3.0507337014552e-05, 7.265329845975008e-05, 6.415191172696946e-05, 6.89464975179261e-05, 5.0461724781753044e-05, 4.39734400422145e-05, 3.294458720432233e-05, 2.1918769041930604e-05, 1.607665348381081e-05, 6.89731280693042e-06]\n"
     ]
    }
   ],
   "source": [
    "S = np.argsort(reviews.rating.value_counts().index)\n",
    "ratingCounts = reviews.rating.value_counts().values[S]\n",
    "proba = map(lambda x: 1.0/x, ratingCounts)\n",
    "print proba\n",
    "row_proba = map(lambda x: proba[int(x)-1], reviews.rating)\n",
    "row_proba /= sum(row_proba)\n",
    "idx = (np.random.choice(reviews.index, size=100000, replace=False, p=row_proba))\n",
    "reviews_normed = reviews.loc[idx,:]"
   ]
  },
  {
   "cell_type": "code",
   "execution_count": 49,
   "metadata": {
    "slideshow": {
     "slide_type": "fragment"
    }
   },
   "outputs": [
    {
     "data": {
      "image/png": "[encoded data removed]",
      "text/plain": [
       "<matplotlib.figure.Figure at 0x7f1aec903f90>"
      ]
     },
     "metadata": {},
     "output_type": "display_data"
    }
   ],
   "source": [
    "sns.distplot(reviews_normed.rating, bins=10, kde=False) \n",
    "plt.show()"
   ]
  },
  {
   "cell_type": "code",
   "execution_count": null,
   "metadata": {},
   "outputs": [],
   "source": []
  },
  {
   "cell_type": "code",
   "execution_count": null,
   "metadata": {},
   "outputs": [],
   "source": []
  }
 ],
 "metadata": {
  "celltoolbar": "Slideshow",
  "kernelspec": {
   "display_name": "Python 2",
   "language": "python",
   "name": "python2"
  },
  "language_info": {
   "codemirror_mode": {
    "name": "ipython",
    "version": 2
   },
   "file_extension": ".py",
   "mimetype": "text/x-python",
   "name": "python",
   "nbconvert_exporter": "python",
   "pygments_lexer": "ipython2",
   "version": "2.7.12"
  }
 },
 "nbformat": 4,
 "nbformat_minor": 2
}

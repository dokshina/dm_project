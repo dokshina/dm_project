{
 "cells": [
  {
   "cell_type": "markdown",
   "metadata": {},
   "source": [
    "### Import packages:"
   ]
  },
  {
   "cell_type": "code",
   "execution_count": 3,
   "metadata": {
    "collapsed": true
   },
   "outputs": [],
   "source": [
    "import pandas as pd\n",
    "from sklearn.feature_extraction.text import TfidfVectorizer\n",
    "from sklearn.linear_model import LinearRegression\n",
    "import numpy as np\n",
    "from sklearn import svm\n",
    "#stemming\n",
    "from nltk.stem.snowball import PorterStemmer\n",
    "from nltk import word_tokenize\n",
    "\n",
    "from nltk.stem.snowball import SnowballStemmer"
   ]
  },
  {
   "cell_type": "markdown",
   "metadata": {},
   "source": [
    "### Set up plot styles:"
   ]
  },
  {
   "cell_type": "code",
   "execution_count": 4,
   "metadata": {},
   "outputs": [
    {
     "name": "stdout",
     "output_type": "stream",
     "text": [
      "Populating the interactive namespace from numpy and matplotlib\n"
     ]
    }
   ],
   "source": [
    "import matplotlib.pyplot as plt\n",
    "\n",
    "%matplotlib inline\n",
    "plt.style.use('ggplot')\n",
    "plt.rcParams['figure.figsize'] = (12,5)\n",
    "\n",
    "# Plotting config\n",
    "%pylab inline"
   ]
  },
  {
   "cell_type": "markdown",
   "metadata": {},
   "source": [
    "### Load data:"
   ]
  },
  {
   "cell_type": "code",
   "execution_count": 6,
   "metadata": {},
   "outputs": [],
   "source": [
    "# stemmed and categorized text\n",
    "reviews = pd.read_csv('./data/stemmed.csv')"
   ]
  },
  {
   "cell_type": "markdown",
   "metadata": {},
   "source": [
    "### Rating distribution:"
   ]
  },
  {
   "cell_type": "code",
   "execution_count": 7,
   "metadata": {},
   "outputs": [
    {
     "data": {
      "text/plain": [
       "(array([  32779.,   13764.,   15588.,   14504.,   19817.,   22741.,\n",
       "          30354.,   45623.,   62202.,  144984.]),\n",
       " array([  1. ,   1.9,   2.8,   3.7,   4.6,   5.5,   6.4,   7.3,   8.2,\n",
       "          9.1,  10. ]),\n",
       " <a list of 10 Patch objects>)"
      ]
     },
     "execution_count": 7,
     "metadata": {},
     "output_type": "execute_result"
    },
    {
     "data": {
      "image/png": "[encoded data removed]",
      "text/plain": [
       "<matplotlib.figure.Figure at 0x10ebcda0>"
      ]
     },
     "metadata": {},
     "output_type": "display_data"
    }
   ],
   "source": [
    "plt.hist(reviews.rating, width=0.8)"
   ]
  },
  {
   "cell_type": "markdown",
   "metadata": {},
   "source": [
    "### Choice data randomly to have uniform distribution:"
   ]
  },
  {
   "cell_type": "code",
   "execution_count": 8,
   "metadata": {
    "scrolled": true
   },
   "outputs": [
    {
     "name": "stdout",
     "output_type": "stream",
     "text": [
      "[3.0507337014551999e-05, 7.2653298459750076e-05, 6.4151911726969464e-05, 6.8946497517926095e-05, 5.0461724781753044e-05, 4.39734400422145e-05, 3.2944587204322332e-05, 2.1918769041930604e-05, 1.6076653483810809e-05, 6.89731280693042e-06]\n"
     ]
    }
   ],
   "source": [
    "S = np.argsort(reviews.rating.value_counts().index)\n",
    "ratingCounts = reviews.rating.value_counts().values[S]\n",
    "proba = map(lambda x: 1.0/x, ratingCounts)\n",
    "print proba\n",
    "row_proba = map(lambda x: proba[int(x)-1], reviews.rating)\n",
    "row_proba /= sum(row_proba)\n",
    "idx = (np.random.choice(reviews.index, size=100000, replace=False, p=row_proba))\n",
    "reviewsNormed = reviews.loc[idx,:]"
   ]
  },
  {
   "cell_type": "code",
   "execution_count": 10,
   "metadata": {},
   "outputs": [
    {
     "data": {
      "text/plain": [
       "(array([ 10522.,   8469.,   8685.,   8432.,   9344.,   9731.,  10349.,\n",
       "         10882.,  11446.,  12140.]),\n",
       " array([  1. ,   1.9,   2.8,   3.7,   4.6,   5.5,   6.4,   7.3,   8.2,\n",
       "          9.1,  10. ]),\n",
       " <a list of 10 Patch objects>)"
      ]
     },
     "execution_count": 10,
     "metadata": {},
     "output_type": "execute_result"
    },
    {
     "data": {
      "image/png": "[encoded data removed]",
      "text/plain": [
       "<matplotlib.figure.Figure at 0x10b10588>"
      ]
     },
     "metadata": {},
     "output_type": "display_data"
    }
   ],
   "source": [
    "plt.hist(reviewsNormed.rating, width=0.8)"
   ]
  },
  {
   "cell_type": "markdown",
   "metadata": {},
   "source": [
    "## Linear regression"
   ]
  },
  {
   "cell_type": "code",
   "execution_count": 114,
   "metadata": {
    "collapsed": true
   },
   "outputs": [],
   "source": [
    "vectorizer = TfidfVectorizer(min_df=0.01, max_df=0.8, binary=False, ngram_range=(1,2))\n",
    "\n",
    "def linPredict(X_train, y_train, X_test):\n",
    "    \n",
    "    #для обучения отбираем рейтинг >=8, <=3\n",
    "#     mask= (reviewsNormed.rating<=3) | (reviewsNormed.rating>=8)\n",
    "#     X_train = X_train.where(mask).dropna()\n",
    "#     y_train = y_train.where(mask).dropna()\n",
    "    \n",
    "    \n",
    "    X_train_vect = vectorizer.fit_transform(X_train)\n",
    "    X_test_vect = vectorizer.transform(X_test)  \n",
    "    print 'done vect'\n",
    "    \n",
    "    regression = LinearRegression()\n",
    "    regression.fit(X_train_vect, y_train)\n",
    "    y_pred = regression.predict(X_test_vect)\n",
    "    y_pred = np.array(map(lambda x: 1 if x<1 else 10 if x>10 else x,y_pred))\n",
    "    \n",
    "    return y_pred\n",
    "    "
   ]
  },
  {
   "cell_type": "code",
   "execution_count": 115,
   "metadata": {},
   "outputs": [
    {
     "name": "stdout",
     "output_type": "stream",
     "text": [
      "done vect\n"
     ]
    }
   ],
   "source": [
    "y_pred_lin = linPredict(reviewsNormed[:90000].stemmed, reviewsNormed[:90000].rating, reviewsNormed[90000:].stemmed)\n",
    "y_test = reviewsNormed[90000:].rating"
   ]
  },
  {
   "cell_type": "markdown",
   "metadata": {},
   "source": [
    "## Оценка линейной ошибки"
   ]
  },
  {
   "cell_type": "code",
   "execution_count": 132,
   "metadata": {},
   "outputs": [
    {
     "name": "stdout",
     "output_type": "stream",
     "text": [
      "1.4516\n",
      "mse:  1.87155116776\n"
     ]
    },
    {
     "data": {
      "image/png": "[encoded data removed]",
      "text/plain": [
       "<matplotlib.figure.Figure at 0x3bafd5f8>"
      ]
     },
     "metadata": {},
     "output_type": "display_data"
    }
   ],
   "source": [
    "from sklearn.metrics import mean_squared_error\n",
    "\n",
    "error_ = abs(y_test - y_pred_lin.round())\n",
    "print error_.mean()\n",
    "print 'mse: ', sqrt(mean_squared_error(y_test, y_pred_lin))\n",
    "\n",
    "plt.hist(error_, bins=100)\n",
    "plt.xlabel('|error|')\n",
    "plt.show()\n",
    "#mse\n",
    "#auc - binary\n"
   ]
  },
  {
   "cell_type": "code",
   "execution_count": null,
   "metadata": {
    "collapsed": true
   },
   "outputs": [],
   "source": []
  },
  {
   "cell_type": "markdown",
   "metadata": {},
   "source": [
    "## SVD"
   ]
  },
  {
   "cell_type": "code",
   "execution_count": null,
   "metadata": {
    "collapsed": true
   },
   "outputs": [],
   "source": [
    "y_pred_svr = svrPredict(reviewsNormed[:90000].stemmed, reviewsNormed[:90000].rating, reviewsNormed[90000:].stemmed)\n",
    "y_test = reviewsNormed[90000:].rating"
   ]
  },
  {
   "cell_type": "markdown",
   "metadata": {},
   "source": [
    "## Logistic regression"
   ]
  },
  {
   "cell_type": "code",
   "execution_count": 49,
   "metadata": {
    "collapsed": true
   },
   "outputs": [],
   "source": [
    "from sklearn.linear_model import LogisticRegression\n",
    "\n",
    "vectorizer = TfidfVectorizer(min_df=0.01, max_df=0.8, binary=False, ngram_range=(1,1))\n",
    "\n",
    "def logPredict(X_train, y_train, X_test):\n",
    "    \n",
    "    #для обучения отбираем рейтинг >=8, <=3\n",
    "#     mask= (reviewsNormed.rating<=2) | (reviewsNormed.rating>=9)\n",
    "#     X_train = X_train.where(mask).dropna()\n",
    "#     y_train = y_train.where(mask).dropna()\n",
    "    \n",
    "    y_train_bin = map(lambda x: 1 if x >=6 else 0,y_train)\n",
    "    \n",
    "    \n",
    "    X_train_vect = vectorizer.fit_transform(X_train)\n",
    "    X_test_vect = vectorizer.transform(X_test)  \n",
    "    print 'done vect'\n",
    "    \n",
    "    LR = LogisticRegression()\n",
    "    LR.fit(X_train_vect, y_train_bin)\n",
    "    y_pred = LR.predict(X_test_vect)\n",
    "    proba_pred = LR.predict_proba(X_test_vect)\n",
    "\n",
    "    #y_pred = np.array(map(lambda x: 1 if x<1 else 10 if x>10 else x,y_pred))\n",
    "    \n",
    "    return y_pred, proba_pred\n",
    "    "
   ]
  },
  {
   "cell_type": "code",
   "execution_count": 50,
   "metadata": {},
   "outputs": [
    {
     "name": "stdout",
     "output_type": "stream",
     "text": [
      "done vect\n"
     ]
    }
   ],
   "source": [
    "y_pred_log, proba_log = logPredict(reviewsNormed[:90000].stemmed, reviewsNormed[:90000].rating, reviewsNormed[90000:].stemmed)\n",
    "y_test = map(lambda x: 1 if x >=6 else 0, reviewsNormed[90000:].rating)"
   ]
  },
  {
   "cell_type": "code",
   "execution_count": 16,
   "metadata": {
    "collapsed": true
   },
   "outputs": [],
   "source": [
    "proba_logN = map(lambda x: x if x>0.5 else 1-x ,proba_log[:,1])\n",
    "proba_logN = np.array(proba_logN)"
   ]
  },
  {
   "cell_type": "code",
   "execution_count": null,
   "metadata": {
    "collapsed": true
   },
   "outputs": [],
   "source": []
  },
  {
   "cell_type": "code",
   "execution_count": 19,
   "metadata": {},
   "outputs": [
    {
     "data": {
      "image/png": "[encoded data removed]",
      "text/plain": [
       "<matplotlib.figure.Figure at 0x5950eeb8>"
      ]
     },
     "metadata": {},
     "output_type": "display_data"
    }
   ],
   "source": [
    "x_ = linspace(1, 10, 300)\n",
    "y_ = 0.5*np.ones(x_.shape)\n",
    "plt.scatter(x_, y_, s=5)\n",
    "plt.scatter(reviewsNormed[90000:].rating, proba_log[:,1], s=30*proba_logN**2, alpha=0.01, c='b' )\n",
    "plt.show()"
   ]
  },
  {
   "cell_type": "code",
   "execution_count": 24,
   "metadata": {},
   "outputs": [
    {
     "name": "stdout",
     "output_type": "stream",
     "text": [
      "accuracy score:  0.8364\n"
     ]
    },
    {
     "data": {
      "image/png": "[encoded data removed]",
      "text/plain": [
       "<matplotlib.figure.Figure at 0x52eaf390>"
      ]
     },
     "metadata": {},
     "output_type": "display_data"
    }
   ],
   "source": [
    "from sklearn.metrics import accuracy_score\n",
    "\n",
    "error_ = abs(y_test - y_pred_log)\n",
    "print 'accuracy score: ', accuracy_score(y_test, y_pred_log)\n",
    "\n",
    "plt.hist(error_, bins=100)\n",
    "plt.xlabel('|error|')\n",
    "plt.show()"
   ]
  },
  {
   "cell_type": "code",
   "execution_count": 52,
   "metadata": {},
   "outputs": [],
   "source": [
    "from sklearn.metrics import roc_curve, auc"
   ]
  },
  {
   "cell_type": "code",
   "execution_count": 53,
   "metadata": {},
   "outputs": [],
   "source": [
    "fpr, tpr, _ = roc_curve(y_test, y_pred_log)\n",
    "roc_auc = auc(fpr, tpr)"
   ]
  },
  {
   "cell_type": "code",
   "execution_count": 60,
   "metadata": {},
   "outputs": [
    {
     "data": {
      "image/png": "[encoded data removed]",
      "text/plain": [
       "<matplotlib.figure.Figure at 0x1668d358>"
      ]
     },
     "metadata": {},
     "output_type": "display_data"
    }
   ],
   "source": [
    "plt.plot(fpr, tpr, color='darkorange', lw=2,\n",
    "          label='ROC curve (area = %0.2f)' % roc_auc)\n",
    "plt.plot([0, 1], [0, 1], color='navy', lw=2, linestyle='--')\n",
    "plt.xlim([0.0, 1.0])\n",
    "plt.ylim([0.0, 1.05])\n",
    "plt.xlabel('False Positive Rate')\n",
    "plt.ylabel('True Positive Rate')\n",
    "\n",
    "plt.legend(loc=\"lower right\")\n",
    "plt.show()"
   ]
  },
  {
   "cell_type": "markdown",
   "metadata": {},
   "source": [
    "## Logitic Regression 3 classes"
   ]
  },
  {
   "cell_type": "code",
   "execution_count": 61,
   "metadata": {
    "collapsed": true
   },
   "outputs": [],
   "source": [
    "from sklearn.linear_model import LogisticRegression\n",
    "\n",
    "vectorizer = TfidfVectorizer(min_df=0.01, max_df=0.8, binary=False, ngram_range=(1,1))\n",
    "\n",
    "def logPredictClass(X_train, y_train, X_test):\n",
    "    \n",
    "    #для обучения отбираем рейтинг >=8, <=3\n",
    "#     mask= (reviewsNormed.rating<=2) | (reviewsNormed.rating>=9)\n",
    "#     X_train = X_train.where(mask).dropna()\n",
    "#     y_train = y_train.where(mask).dropna()\n",
    "    \n",
    "    y_train_class = map(lambda x: 1 if x >=9 else -1 if x<=2 else 0 ,y_train)\n",
    "\n",
    "    \n",
    "    X_train_vect = vectorizer.fit_transform(X_train)\n",
    "    X_test_vect = vectorizer.transform(X_test)  \n",
    "    print 'done vect'\n",
    "    \n",
    "    LR = LogisticRegression()\n",
    "    LR.fit(X_train_vect, y_train_class)\n",
    "    y_pred = LR.predict(X_test_vect)\n",
    "    proba_pred = LR.predict_proba(X_test_vect)\n",
    "    \n",
    "    return y_pred, proba_pred   "
   ]
  },
  {
   "cell_type": "code",
   "execution_count": 62,
   "metadata": {},
   "outputs": [
    {
     "name": "stdout",
     "output_type": "stream",
     "text": [
      "done vect\n"
     ]
    }
   ],
   "source": [
    "y_pred_log3, proba_log3 = logPredictClass(reviewsNormed[:90000].stemmed, reviewsNormed[:90000].rating, reviewsNormed[90000:].stemmed)\n",
    "y_test = map(lambda x: 1 if x >=8 else -1 if x<=3 else 0 ,reviewsNormed[90000:].rating)"
   ]
  },
  {
   "cell_type": "markdown",
   "metadata": {},
   "source": [
    "## error:"
   ]
  },
  {
   "cell_type": "code",
   "execution_count": 41,
   "metadata": {},
   "outputs": [
    {
     "data": {
      "image/png": "[encoded data removed]",
      "text/plain": [
       "<matplotlib.figure.Figure at 0x589c7630>"
      ]
     },
     "metadata": {},
     "output_type": "display_data"
    }
   ],
   "source": [
    "error_ = (y_test - y_pred_log)\n",
    "\n",
    "\n",
    "plt.hist(error_, bins=100)\n",
    "plt.xlabel('|error|')\n",
    "plt.show()"
   ]
  },
  {
   "cell_type": "code",
   "execution_count": null,
   "metadata": {
    "collapsed": true
   },
   "outputs": [],
   "source": [
    "# Linear prediction"
   ]
  },
  {
   "cell_type": "code",
   "execution_count": null,
   "metadata": {
    "collapsed": true
   },
   "outputs": [],
   "source": [
    "y_test.value_counts()"
   ]
  },
  {
   "cell_type": "code",
   "execution_count": null,
   "metadata": {
    "collapsed": true
   },
   "outputs": [],
   "source": [
    "error_ = abs(y_linPredict.round() - y_test)\n",
    "print (error_).mean()\n",
    "print error_.std()\n",
    "\n",
    "plt.hist(error_, bins=50)\n",
    "plt.xlabel('|error|')\n",
    "plt.show()\n",
    "#mse\n",
    "#auc - binary"
   ]
  },
  {
   "cell_type": "code",
   "execution_count": null,
   "metadata": {
    "collapsed": true
   },
   "outputs": [],
   "source": [
    "def linearPredict(X_train, y_train, X_test):\n",
    "    #vectorize\n",
    "    "
   ]
  },
  {
   "cell_type": "code",
   "execution_count": null,
   "metadata": {
    "collapsed": true
   },
   "outputs": [],
   "source": [
    "np.sort(error_)"
   ]
  },
  {
   "cell_type": "code",
   "execution_count": null,
   "metadata": {
    "collapsed": true
   },
   "outputs": [],
   "source": []
  },
  {
   "cell_type": "code",
   "execution_count": null,
   "metadata": {
    "collapsed": true
   },
   "outputs": [],
   "source": []
  },
  {
   "cell_type": "code",
   "execution_count": null,
   "metadata": {
    "collapsed": true
   },
   "outputs": [],
   "source": [
    "coef = np.array(regression.coef_)\n",
    "feature_mapping = np.array(vectorizer.get_feature_names())"
   ]
  },
  {
   "cell_type": "code",
   "execution_count": null,
   "metadata": {
    "collapsed": true
   },
   "outputs": [],
   "source": [
    "idx = np.argsort(coef)"
   ]
  },
  {
   "cell_type": "code",
   "execution_count": null,
   "metadata": {
    "collapsed": true
   },
   "outputs": [],
   "source": [
    "coef[idx]"
   ]
  },
  {
   "cell_type": "code",
   "execution_count": null,
   "metadata": {
    "collapsed": true
   },
   "outputs": [],
   "source": [
    "feature_mapping = feature_mapping[idx]\n",
    "feature_mapping"
   ]
  },
  {
   "cell_type": "code",
   "execution_count": null,
   "metadata": {
    "collapsed": true
   },
   "outputs": [],
   "source": [
    "#the best\n",
    "feature_mapping[-100:]"
   ]
  },
  {
   "cell_type": "code",
   "execution_count": null,
   "metadata": {
    "collapsed": true
   },
   "outputs": [],
   "source": [
    "#the worst\n",
    "feature_mapping[:100]"
   ]
  },
  {
   "cell_type": "markdown",
   "metadata": {},
   "source": [
    "# Logististic regression"
   ]
  },
  {
   "cell_type": "code",
   "execution_count": null,
   "metadata": {
    "collapsed": true
   },
   "outputs": [],
   "source": [
    "from sklearn.linear_model import LogisticRegression\n",
    "\n",
    "LR = LinearRegression()\n",
    "LR.fit(X_train, y_train[:80000])\n",
    "y_LRPredict = LR.predict(X_test)"
   ]
  },
  {
   "cell_type": "code",
   "execution_count": null,
   "metadata": {
    "collapsed": true
   },
   "outputs": [],
   "source": [
    "error_ = abs(y_LRPredict - y_test)\n",
    "print (error_).mean()\n",
    "print error_.std()\n",
    "plt.hist(error_, bins=100)\n",
    "plt.xlabel('|error|')\n",
    "plt.show()\n",
    "#mse\n",
    "#auc - binary"
   ]
  },
  {
   "cell_type": "code",
   "execution_count": null,
   "metadata": {
    "collapsed": true
   },
   "outputs": [],
   "source": [
    "S = pd.read_csv('data/stemmed.csv')"
   ]
  },
  {
   "cell_type": "code",
   "execution_count": null,
   "metadata": {
    "collapsed": true
   },
   "outputs": [],
   "source": [
    "S.shape"
   ]
  },
  {
   "cell_type": "code",
   "execution_count": null,
   "metadata": {
    "collapsed": true
   },
   "outputs": [],
   "source": []
  },
  {
   "cell_type": "code",
   "execution_count": null,
   "metadata": {
    "collapsed": true
   },
   "outputs": [],
   "source": []
  },
  {
   "cell_type": "code",
   "execution_count": 63,
   "metadata": {
    "collapsed": true
   },
   "outputs": [],
   "source": [
    " from sklearn.naive_bayes import GaussianNB"
   ]
  },
  {
   "cell_type": "code",
   "execution_count": 120,
   "metadata": {},
   "outputs": [],
   "source": [
    "vectorizerBayes = TfidfVectorizer(min_df=0.01, max_df=0.9, binary=False, ngram_range=(1,1))\n",
    "\n",
    "def Bayes(X_train, y_train, X_test):\n",
    "    X_train_vect = vectorizer.fit_transform(X_train)\n",
    "    X_test_vect = vectorizer.transform(X_test)\n",
    "    \n",
    "    print 'vect done'\n",
    "\n",
    "    gnb = GaussianNB()\n",
    "    y_pred_bayes = gnb.fit(X_train_vect.toarray(), y_train)\n",
    "    print 'fit done'\n",
    "    return gnb.predict(X_test_vect.toarray())"
   ]
  },
  {
   "cell_type": "code",
   "execution_count": 121,
   "metadata": {},
   "outputs": [
    {
     "name": "stdout",
     "output_type": "stream",
     "text": [
      "vect done\n",
      "fit done\n"
     ]
    }
   ],
   "source": [
    "y_pred_bayes = Bayes(reviewsNormed[:90000].stemmed, reviewsNormed[:90000].rating, reviewsNormed[90000:].stemmed)\n",
    "y_test_bayes = reviewsNormed[90000:].rating"
   ]
  },
  {
   "cell_type": "code",
   "execution_count": 122,
   "metadata": {},
   "outputs": [
    {
     "name": "stdout",
     "output_type": "stream",
     "text": [
      "1.5167\n",
      "mse:  2.38333799533\n"
     ]
    },
    {
     "data": {
      "image/png": "[encoded data removed]",
      "text/plain": [
       "<matplotlib.figure.Figure at 0x3a1699e8>"
      ]
     },
     "metadata": {},
     "output_type": "display_data"
    }
   ],
   "source": [
    "error_ = abs(y_test_bayes - y_pred_bayes)\n",
    "\n",
    "print error_.mean()\n",
    "print 'mse: ', sqrt(mean_squared_error(y_test_bayes, y_pred_bayes))\n",
    "\n",
    "plt.hist(error_, bins=100)\n",
    "plt.xlabel('|error|')\n",
    "plt.show()"
   ]
  },
  {
   "cell_type": "code",
   "execution_count": null,
   "metadata": {
    "collapsed": true
   },
   "outputs": [],
   "source": []
  },
  {
   "cell_type": "code",
   "execution_count": null,
   "metadata": {
    "collapsed": true
   },
   "outputs": [],
   "source": []
  },
  {
   "cell_type": "code",
   "execution_count": 129,
   "metadata": {
    "collapsed": true
   },
   "outputs": [],
   "source": [
    "from sklearn.naive_bayes import MultinomialNB\n",
    "vectorizerBayesMulti = TfidfVectorizer(min_df=0.01, max_df=0.9, binary=False, ngram_range=(1,1))\n",
    "\n",
    "def BayesMulti(X_train, y_train, X_test):\n",
    "    X_train_vect = vectorizer.fit_transform(X_train)\n",
    "    X_test_vect = vectorizer.transform(X_test)\n",
    "    \n",
    "    print 'vect done'\n",
    "\n",
    "                           \n",
    "    mnb = MultinomialNB()\n",
    "    mnb.fit(X_train_vect.toarray(), y_train)\n",
    "    print 'fit done'\n",
    "    y_pred = mnb.predict(X_test_vect.toarray())\n",
    "    y_pred = np.array(map(lambda x: 1 if x<1 else 10 if x>10 else x,y_pred))\n",
    "\n",
    "    return y_pred"
   ]
  },
  {
   "cell_type": "code",
   "execution_count": 130,
   "metadata": {},
   "outputs": [
    {
     "name": "stdout",
     "output_type": "stream",
     "text": [
      "vect done\n",
      "fit done\n"
     ]
    }
   ],
   "source": [
    "y_pred_bayes_mult = BayesMulti(reviewsNormed[:90000].stemmed, reviewsNormed[:90000].rating, reviewsNormed[90000:].stemmed)\n",
    "y_test_bayes_mult = reviewsNormed[90000:].rating"
   ]
  },
  {
   "cell_type": "code",
   "execution_count": 131,
   "metadata": {},
   "outputs": [
    {
     "name": "stdout",
     "output_type": "stream",
     "text": [
      "1.5319\n",
      "mse:  2.42014462378\n"
     ]
    },
    {
     "data": {
      "image/png": "[encoded data removed]",
      "text/plain": [
       "<matplotlib.figure.Figure at 0x3da9d6d8>"
      ]
     },
     "metadata": {},
     "output_type": "display_data"
    }
   ],
   "source": [
    "error_ = abs(y_pred_bayes_mult - y_test_bayes_mult)\n",
    "\n",
    "print error_.mean()\n",
    "print 'mse: ', sqrt(mean_squared_error(y_pred_bayes_mult, y_test_bayes_mult))\n",
    "\n",
    "plt.hist(error_, bins=100)\n",
    "plt.xlabel('|error|')\n",
    "plt.show()"
   ]
  },
  {
   "cell_type": "code",
   "execution_count": null,
   "metadata": {
    "collapsed": true
   },
   "outputs": [],
   "source": []
  }
 ],
 "metadata": {
  "kernelspec": {
   "display_name": "Python 2",
   "language": "python",
   "name": "python2"
  },
  "language_info": {
   "codemirror_mode": {
    "name": "ipython",
    "version": 2
   },
   "file_extension": ".py",
   "mimetype": "text/x-python",
   "name": "python",
   "nbconvert_exporter": "python",
   "pygments_lexer": "ipython2",
   "version": "2.7.14"
  }
 },
 "nbformat": 4,
 "nbformat_minor": 2
}
